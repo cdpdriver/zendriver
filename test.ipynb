{
 "cells": [
  {
   "cell_type": "code",
   "execution_count": 12,
   "id": "fa1e6e3a",
   "metadata": {},
   "outputs": [
    {
     "name": "stdout",
     "output_type": "stream",
     "text": [
      "h\n",
      "e\n",
      "l\n",
      "l\n",
      "o\n",
      " \n",
      "w\n",
      "o\n",
      "r\n",
      "l\n",
      "d\n",
      " \n",
      "🤦‍♂️\n",
      "😁\n",
      "👍\n",
      "😉\n"
     ]
    }
   ],
   "source": [
    "import grapheme\n",
    "\n",
    "for a in grapheme.graphemes(\"hello world 🤦‍♂️😁👍😉\"):\n",
    "    print(a)"
   ]
  },
  {
   "cell_type": "code",
   "execution_count": null,
   "id": "202c3f44",
   "metadata": {},
   "outputs": [
    {
     "name": "stdout",
     "output_type": "stream",
     "text": [
      "😁\n"
     ]
    }
   ],
   "source": [
    "rainbow = \"\"\n",
    "\n",
    "for a in rainbow:\n",
    "    print(a)"
   ]
  },
  {
   "cell_type": "code",
   "execution_count": 9,
   "id": "8d498828",
   "metadata": {},
   "outputs": [
    {
     "data": {
      "text/plain": [
       "1"
      ]
     },
     "execution_count": 9,
     "metadata": {},
     "output_type": "execute_result"
    }
   ],
   "source": [
    "len(rainbow)"
   ]
  },
  {
   "cell_type": "code",
   "execution_count": 28,
   "id": "2cb67fd5",
   "metadata": {},
   "outputs": [
    {
     "data": {
      "text/plain": [
       "(33, 64, 35)"
      ]
     },
     "execution_count": 28,
     "metadata": {},
     "output_type": "execute_result"
    }
   ],
   "source": [
    "ord(\"!\"), ord(\"@\"), ord(\"#\")"
   ]
  },
  {
   "cell_type": "code",
   "execution_count": 1,
   "id": "0034166a",
   "metadata": {},
   "outputs": [],
   "source": [
    "import zendriver as zd"
   ]
  },
  {
   "cell_type": "code",
   "execution_count": 2,
   "id": "ce459277",
   "metadata": {},
   "outputs": [],
   "source": [
    "browser = await zd.start(browser_args=[\"--disable-gpu\"])"
   ]
  },
  {
   "cell_type": "code",
   "execution_count": 3,
   "id": "0a47deeb",
   "metadata": {},
   "outputs": [],
   "source": [
    "page = await browser.get(\"https://codverter.com/src/maineditor\")"
   ]
  },
  {
   "cell_type": "code",
   "execution_count": 4,
   "id": "f1419a71",
   "metadata": {},
   "outputs": [],
   "source": [
    "await page.maximize()"
   ]
  },
  {
   "cell_type": "code",
   "execution_count": 5,
   "id": "8bb7aca3",
   "metadata": {},
   "outputs": [],
   "source": [
    "await page"
   ]
  },
  {
   "cell_type": "code",
   "execution_count": 6,
   "id": "f19f135a",
   "metadata": {},
   "outputs": [],
   "source": [
    "writing_element = await page.find('//*[@id=\"divlft\"]/div[2]/div[6]/div[1]')"
   ]
  },
  {
   "cell_type": "code",
   "execution_count": 7,
   "id": "b7459bee",
   "metadata": {},
   "outputs": [],
   "source": [
    "if not isinstance(writing_element, zd.Element):\n",
    "    raise TypeError(\"Expected writing_element to be of type zd.Element\")\n",
    "await writing_element.mouse_click(\"left\")\n",
    "await writing_element.send_keys(\"Hello world\")"
   ]
  },
  {
   "cell_type": "code",
   "execution_count": null,
   "id": "79f55f53",
   "metadata": {},
   "outputs": [],
   "source": [
    "t = zd.KeyEvents.from_mixed_input(\n",
    "    [\n",
    "        zd.SpecialKeys.ENTER,\n",
    "        (\"a\", zd.KeyModifiers.Ctrl),\n",
    "        (\"c\", zd.KeyModifiers.Ctrl),\n",
    "        zd.SpecialKeys.ARROW_DOWN,\n",
    "        (\"v\", zd.KeyModifiers.Ctrl),\n",
    "    ]\n",
    ")"
   ]
  },
  {
   "cell_type": "code",
   "execution_count": 8,
   "id": "1c4cfa72",
   "metadata": {},
   "outputs": [],
   "source": [
    "input_commands=[zd.KeyEvents(zd.SpecialKeys.ENTER),\n",
    "                                 zd.KeyEvents(\"a\", zd.KeyModifiers.Ctrl),\n",
    "                                 zd.KeyEvents(\"c\", zd.KeyModifiers.Ctrl),\n",
    "                                 zd.KeyEvents(zd.SpecialKeys.ARROW_DOWN),\n",
    "                                 zd.KeyEvents(\"v\", zd.KeyModifiers.Ctrl)]"
   ]
  },
  {
   "cell_type": "code",
   "execution_count": 9,
   "id": "c2ab754e",
   "metadata": {},
   "outputs": [],
   "source": [
    "l= [b for a in input_commands for b in a.to_cdp_events(zd.KeyPressEvent.DOWN_AND_UP)]"
   ]
  },
  {
   "cell_type": "code",
   "execution_count": 10,
   "id": "c259cab5",
   "metadata": {},
   "outputs": [],
   "source": [
    "await writing_element.send_keys(l)"
   ]
  },
  {
   "cell_type": "code",
   "execution_count": 13,
   "id": "392de52c",
   "metadata": {},
   "outputs": [],
   "source": [
    "await writing_element.send_keys(zd.KeyEvents(\"n\", zd.KeyModifiers.Ctrl).to_cdp_events(zd.KeyPressEvent.DOWN_AND_UP))"
   ]
  },
  {
   "cell_type": "code",
   "execution_count": 15,
   "id": "87da9b73",
   "metadata": {},
   "outputs": [],
   "source": [
    "main_element = await page.find(\"/html/body\")"
   ]
  },
  {
   "cell_type": "code",
   "execution_count": 16,
   "id": "ea03c9c1",
   "metadata": {},
   "outputs": [],
   "source": [
    "await main_element.send_keys([zd.KeyEvents(\"n\", zd.KeyPressEvent.DOWN_AND_UP, zd.KeyModifiers.Ctrl | zd.KeyModifiers.Shift)])"
   ]
  },
  {
   "cell_type": "code",
   "execution_count": 2,
   "id": "53444f38",
   "metadata": {},
   "outputs": [],
   "source": [
    "o = zd.KeyEvents(\"n\", zd.KeyPressEvent.DOWN_AND_UP, zd.KeyModifiers.Ctrl | zd.KeyModifiers.Shift)"
   ]
  },
  {
   "cell_type": "code",
   "execution_count": 3,
   "id": "2e6deb44",
   "metadata": {},
   "outputs": [
    {
     "data": {
      "text/plain": [
       "[{'text': None,\n",
       "  'key': 'Control',\n",
       "  'code': 'ControlLeft',\n",
       "  'windows_virtual_key_code': 17,\n",
       "  'native_virtual_key_code': 17,\n",
       "  'type_': 'keyDown',\n",
       "  'modifiers': 2},\n",
       " {'text': None,\n",
       "  'key': 'Shift',\n",
       "  'code': 'ShiftLeft',\n",
       "  'windows_virtual_key_code': 16,\n",
       "  'native_virtual_key_code': 16,\n",
       "  'type_': 'keyDown',\n",
       "  'modifiers': 10},\n",
       " {'text': 'n',\n",
       "  'key': 'n',\n",
       "  'code': 'KeyN',\n",
       "  'windows_virtual_key_code': 78,\n",
       "  'native_virtual_key_code': 78,\n",
       "  'type_': 'keyDown',\n",
       "  'modifiers': 10},\n",
       " {'text': None,\n",
       "  'key': 'Control',\n",
       "  'code': 'ControlLeft',\n",
       "  'windows_virtual_key_code': 17,\n",
       "  'native_virtual_key_code': 17,\n",
       "  'type_': 'keyUp',\n",
       "  'modifiers': 8},\n",
       " {'text': None,\n",
       "  'key': 'Shift',\n",
       "  'code': 'ShiftLeft',\n",
       "  'windows_virtual_key_code': 16,\n",
       "  'native_virtual_key_code': 16,\n",
       "  'type_': 'keyUp',\n",
       "  'modifiers': 0},\n",
       " {'text': 'n',\n",
       "  'key': 'n',\n",
       "  'code': 'KeyN',\n",
       "  'windows_virtual_key_code': 78,\n",
       "  'native_virtual_key_code': 78,\n",
       "  'type_': 'keyUp',\n",
       "  'modifiers': 0}]"
      ]
     },
     "execution_count": 3,
     "metadata": {},
     "output_type": "execute_result"
    }
   ],
   "source": [
    "o.to_cdp_events()"
   ]
  },
  {
   "cell_type": "code",
   "execution_count": 2,
   "id": "35f1facc",
   "metadata": {},
   "outputs": [],
   "source": [
    "import zendriver as zd"
   ]
  },
  {
   "cell_type": "code",
   "execution_count": 3,
   "id": "ab76a2ad",
   "metadata": {},
   "outputs": [],
   "source": [
    "d = zd.KeyEvents(\"s\", zd.KeyPressEvent.DOWN_AND_UP, zd.KeyModifiers.Shift)"
   ]
  },
  {
   "cell_type": "code",
   "execution_count": 4,
   "id": "ee3f8e7e",
   "metadata": {},
   "outputs": [
    {
     "data": {
      "text/plain": [
       "[{'text': None,\n",
       "  'key': 'ShiftLeft',\n",
       "  'code': 'ShiftLeft',\n",
       "  'windows_virtual_key_code': 16,\n",
       "  'native_virtual_key_code': 16,\n",
       "  'type_': 'keyDown',\n",
       "  'modifiers': 8},\n",
       " {'text': 'S',\n",
       "  'key': 'S',\n",
       "  'code': 'KeyS',\n",
       "  'windows_virtual_key_code': 83,\n",
       "  'native_virtual_key_code': 83,\n",
       "  'type_': 'keyDown',\n",
       "  'modifiers': 8},\n",
       " {'text': None,\n",
       "  'key': 'ShiftLeft',\n",
       "  'code': 'ShiftLeft',\n",
       "  'windows_virtual_key_code': 16,\n",
       "  'native_virtual_key_code': 16,\n",
       "  'type_': 'keyUp',\n",
       "  'modifiers': 0},\n",
       " {'text': 's',\n",
       "  'key': 's',\n",
       "  'code': 'KeyS',\n",
       "  'windows_virtual_key_code': 83,\n",
       "  'native_virtual_key_code': 83,\n",
       "  'type_': 'keyUp',\n",
       "  'modifiers': 0}]"
      ]
     },
     "execution_count": 4,
     "metadata": {},
     "output_type": "execute_result"
    }
   ],
   "source": [
    "d.to_cdp_events()"
   ]
  },
  {
   "cell_type": "code",
   "execution_count": null,
   "id": "77f570a0",
   "metadata": {},
   "outputs": [],
   "source": [
    "from zendriver import cdp\n",
    "\n",
    "\n",
    "async def send_keys(element:zd.Element, keyEvents: List[KeyEvents.Action]):\n",
    "    \"\"\"\n",
    "    send text to an input field, or any other html element.\n",
    "\n",
    "    hint, if you ever get stuck where using py:meth:`~click`\n",
    "    does not work, sending the keystroke \\\\n or \\\\r\\\\n or a spacebar work wonders!\n",
    "\n",
    "    when special_characters is True, it will use grapheme clusters to send the text:\n",
    "    if the character is in the printable ASCII range, it sends it using dispatch_key_event.\n",
    "    otherwise, it uses insertText, which handles special characters more robustly.\n",
    "\n",
    "    :param text: text to send\n",
    "    :param special_characters: when True, uses grapheme clusters to send the text.\n",
    "    :return: None\n",
    "    \"\"\"\n",
    "    \n",
    "    await element.apply(\"(elem) => elem.focus()\")\n",
    "    for actions in keyEvents:\n",
    "        action_list = actions.to_dict_basic()\n",
    "        from pprint import pprint\n",
    "        pprint(action_list, sort_dicts=False)\n",
    "        \n",
    "        for action in action_list:\n",
    "            await element._tab.send(\n",
    "                cdp.input_.dispatch_key_event(\n",
    "                    **action\n",
    "                )\n",
    "            )"
   ]
  },
  {
   "cell_type": "code",
   "execution_count": 51,
   "id": "ea07da0a",
   "metadata": {},
   "outputs": [],
   "source": [
    "um = generator_input(input_text)\n",
    "all_vals = [a for a in um if a is not None]\n",
    "\n",
    "\n",
    "if isinstance(writing_element, zd.Element):\n",
    "    await send_keys(writing_element, all_vals)"
   ]
  },
  {
   "cell_type": "code",
   "execution_count": null,
   "id": "7827353d",
   "metadata": {},
   "outputs": [],
   "source": [
    "a = KeyEvents.get_keyEvent(\"a\", KeyModifiers.Ctrl, KeyPressEvent.DOWN_AND_UP)\n",
    "if a is not None:\n",
    "    all_vals[-1] = a"
   ]
  },
  {
   "cell_type": "code",
   "execution_count": 56,
   "id": "4a70890e",
   "metadata": {},
   "outputs": [],
   "source": [
    "await send_keys(writing_element, [all_vals[-1]])"
   ]
  },
  {
   "cell_type": "code",
   "execution_count": null,
   "id": "170df4b2",
   "metadata": {},
   "outputs": [],
   "source": []
  },
  {
   "cell_type": "code",
   "execution_count": 20,
   "id": "8473a5b3",
   "metadata": {},
   "outputs": [],
   "source": [
    "\n",
    "if isinstance(writing_element, zd.Element):\n",
    "    await writing_element.apply(\"(elem) => elem.focus()\")\n",
    "    # Send keyDown event\n",
    "    await writing_element._tab.send(\n",
    "        cdp.input_.dispatch_key_event(\n",
    "            \"keyDown\",\n",
    "            key=\"Enter\",\n",
    "            code=\"Enter\",\n",
    "            windows_virtual_key_code=13,\n",
    "            native_virtual_key_code=13,\n",
    "        )\n",
    "    )\n",
    "\n",
    "    # Send keyUp event\n",
    "    await writing_element._tab.send(\n",
    "        cdp.input_.dispatch_key_event(\n",
    "            \"keyUp\",\n",
    "            key=\"Enter\",\n",
    "            code=\"Enter\",\n",
    "            windows_virtual_key_code=13,\n",
    "            native_virtual_key_code=13,\n",
    "        )\n",
    "    )\n"
   ]
  },
  {
   "cell_type": "code",
   "execution_count": null,
   "id": "9bc10eaa",
   "metadata": {},
   "outputs": [],
   "source": [
    "import asyncio\n",
    "a = KeyEvents.get_keyEvent(\"a\", event_type=KeyPressEvent.KEY_DOWN)\n",
    "b = KeyEvents.get_keyEvent(\"a\", event_type=KeyPressEvent.KEY_UP)\n",
    "\n",
    "if a is None or b is None:\n",
    "    raise ValueError(\"Failed to get key actions for 'a'\")\n",
    "await writing_element.mouse_click(\"left\")\n",
    "await send_keys(writing_element, [a])\n",
    "# await asyncio.sleep(0.5)\n",
    "# await send_keys(writing_element, [b])   "
   ]
  },
  {
   "cell_type": "code",
   "execution_count": null,
   "id": "c5c9276c",
   "metadata": {},
   "outputs": [
    {
     "name": "stdout",
     "output_type": "stream",
     "text": [
      "[{'type_': <KeyEventType.KEY_DOWN: 'keyDown'>,\n",
      "  'modifiers': <KeyModifiers.Shift: 8>,\n",
      "  'key': 'A',\n",
      "  'code': 'KeyA',\n",
      "  'windows_virtual_key_code': 65,\n",
      "  'native_virtual_key_code': 65,\n",
      "  'text': 'A'}]\n",
      "[{'type_': <KeyEventType.KEY_UP: 'keyUp'>,\n",
      "  'modifiers': <KeyModifiers.Shift: 8>,\n",
      "  'key': 'A',\n",
      "  'code': 'KeyA',\n",
      "  'windows_virtual_key_code': 65,\n",
      "  'native_virtual_key_code': 65,\n",
      "  'text': 'A'}]\n"
     ]
    }
   ],
   "source": [
    "import asyncio\n",
    "\n",
    "m = KeyEvents.get_keyEvent(\"A\", KeyModifiers.Shift, KeyPressEvent.KEY_DOWN)\n",
    "await send_keys(writing_element, [m])\n",
    "await asyncio.sleep(3)\n",
    "m = KeyEvents.get_keyEvent(\"A\", KeyModifiers.Shift, KeyPressEvent.KEY_UP)\n",
    "await send_keys(writing_element, [m])"
   ]
  },
  {
   "cell_type": "code",
   "execution_count": 32,
   "id": "1dbcb27a",
   "metadata": {},
   "outputs": [],
   "source": [
    "await writing_element._tab.send(\n",
    "    cdp.input_.dispatch_key_event(\n",
    "        \"keyDown\",\n",
    "        commands=[\"selectAll\"]\n",
    "    )\n",
    ")"
   ]
  },
  {
   "cell_type": "code",
   "execution_count": 22,
   "id": "b95c7c69",
   "metadata": {},
   "outputs": [
    {
     "data": {
      "text/plain": [
       "65"
      ]
     },
     "execution_count": 22,
     "metadata": {},
     "output_type": "execute_result"
    }
   ],
   "source": [
    "ord(\"A\")"
   ]
  },
  {
   "cell_type": "code",
   "execution_count": 28,
   "id": "be39f812",
   "metadata": {},
   "outputs": [],
   "source": [
    "await writing_element.apply(\"(elem) => elem.focus()\")"
   ]
  },
  {
   "cell_type": "code",
   "execution_count": 38,
   "id": "8cc77b4b",
   "metadata": {},
   "outputs": [],
   "source": [
    "await writing_element._tab.send(cdp.input_.dispatch_key_event(\n",
    "        \"keyDown\",\n",
    "        key=\"Control\",\n",
    "        code=\"ControlLeft\",\n",
    "        windows_virtual_key_code=17,\n",
    "        native_virtual_key_code=17,\n",
    "        modifiers=KeyModifiers.Ctrl\n",
    "    )\n",
    ")\n",
    "\n",
    "await writing_element._tab.send(cdp.input_.dispatch_key_event(\n",
    "    \"char\",\n",
    "    text=\"A\",\n",
    "    key=\"A\",\n",
    "    code=\"KeyA\",\n",
    "    windows_virtual_key_code=65,\n",
    "    native_virtual_key_code=65,\n",
    "    modifiers=KeyModifiers.Ctrl\n",
    "))\n",
    "\n",
    "await writing_element._tab.send(cdp.input_.dispatch_key_event(\n",
    "        \"keyUp\",\n",
    "        key=\"Control\",\n",
    "        code=\"ControlLeft\",\n",
    "        windows_virtual_key_code=17,\n",
    "        native_virtual_key_code=17,\n",
    "    )\n",
    ")\n",
    "\n",
    "# await writing_element._tab.send(cdp.input_.dispatch_key_event(\n",
    "#     \"keyUp\",\n",
    "#     text=\"a\",\n",
    "#     key=\"a\",\n",
    "#     code=\"KeyA\",\n",
    "#     windows_virtual_key_code=65,\n",
    "#     native_virtual_key_code=65,\n",
    "# ))"
   ]
  },
  {
   "cell_type": "code",
   "execution_count": 1,
   "id": "1da98816",
   "metadata": {},
   "outputs": [],
   "source": [
    "from prototype import KeyEvents, KeyModifiers, SpecialKeys, KeyPressEvent\n",
    "from grapheme import graphemes"
   ]
  },
  {
   "cell_type": "code",
   "execution_count": 8,
   "id": "e10d0eaf",
   "metadata": {},
   "outputs": [],
   "source": [
    "test = KeyEvents(\"{\", KeyPressEvent.DOWN_AND_UP, KeyModifiers.Shift)"
   ]
  },
  {
   "cell_type": "code",
   "execution_count": 9,
   "id": "62c6aae6",
   "metadata": {},
   "outputs": [
    {
     "name": "stdout",
     "output_type": "stream",
     "text": [
      "[{'text': 'Shift',\n",
      "  'key': 'Shift',\n",
      "  'code': 'ShiftLeft',\n",
      "  'windows_virtual_key_code': 16,\n",
      "  'native_virtual_key_code': 16,\n",
      "  'type_': 'keyDown',\n",
      "  'modifiers': 8},\n",
      " {'text': '{',\n",
      "  'key': '{',\n",
      "  'code': 'BracketLeft',\n",
      "  'windows_virtual_key_code': 219,\n",
      "  'native_virtual_key_code': 219,\n",
      "  'type_': 'keyDown',\n",
      "  'modifiers': 8},\n",
      " {'text': 'Shift',\n",
      "  'key': 'Shift',\n",
      "  'code': 'ShiftLeft',\n",
      "  'windows_virtual_key_code': 16,\n",
      "  'native_virtual_key_code': 16,\n",
      "  'type_': 'keyUp',\n",
      "  'modifiers': 0},\n",
      " {'text': '[',\n",
      "  'key': '[',\n",
      "  'code': 'BracketLeft',\n",
      "  'windows_virtual_key_code': 219,\n",
      "  'native_virtual_key_code': 219,\n",
      "  'type_': 'keyUp',\n",
      "  'modifiers': 0}]\n"
     ]
    }
   ],
   "source": [
    "from pprint import pprint\n",
    "\n",
    "pprint(test.to_cdp_events(), sort_dicts=False)"
   ]
  },
  {
   "cell_type": "code",
   "execution_count": 4,
   "id": "e64a96bb",
   "metadata": {},
   "outputs": [],
   "source": [
    "sentence = \"Hello world 🏳️‍🌈😉👍🤦‍♂️😍🎶\""
   ]
  },
  {
   "cell_type": "code",
   "execution_count": 5,
   "id": "e2259045",
   "metadata": {},
   "outputs": [
    {
     "name": "stdout",
     "output_type": "stream",
     "text": [
      "H <class 'str'>\n",
      "e <class 'str'>\n",
      "l <class 'str'>\n",
      "l <class 'str'>\n",
      "o <class 'str'>\n",
      "  <class 'str'>\n",
      "w <class 'str'>\n",
      "o <class 'str'>\n",
      "r <class 'str'>\n",
      "l <class 'str'>\n",
      "d <class 'str'>\n",
      "  <class 'str'>\n",
      "🏳️‍🌈 <class 'str'>\n",
      "😉 <class 'str'>\n",
      "👍 <class 'str'>\n",
      "🤦‍♂️ <class 'str'>\n",
      "😍 <class 'str'>\n",
      "🎶 <class 'str'>\n"
     ]
    }
   ],
   "source": [
    "events = []\n",
    "for a in graphemes(sentence):\n",
    "    if a is None or a == \"\":\n",
    "        continue\n",
    "    print(a, type(a))\n",
    "    events.append(\n",
    "        KeyEvents(a, KeyPressEvent.DOWN_AND_UP)\n",
    "    )"
   ]
  },
  {
   "cell_type": "code",
   "execution_count": 7,
   "id": "22373177",
   "metadata": {},
   "outputs": [
    {
     "data": {
      "text/plain": [
       "248"
      ]
     },
     "execution_count": 7,
     "metadata": {},
     "output_type": "execute_result"
    }
   ],
   "source": [
    "import sys\n",
    "sys.getsizeof(events)"
   ]
  },
  {
   "cell_type": "code",
   "execution_count": 6,
   "id": "12c9b926",
   "metadata": {},
   "outputs": [
    {
     "data": {
      "text/plain": [
       "[[{'text': 'Shift',\n",
       "   'key': 'Shift',\n",
       "   'code': 'ShiftLeft',\n",
       "   'windows_virtual_key_code': 16,\n",
       "   'native_virtual_key_code': 16,\n",
       "   'type_': 'keyDown',\n",
       "   'modifiers': 8},\n",
       "  {'text': 'H',\n",
       "   'key': 'H',\n",
       "   'code': 'KeyH',\n",
       "   'windows_virtual_key_code': 72,\n",
       "   'native_virtual_key_code': 72,\n",
       "   'type_': 'keyDown',\n",
       "   'modifiers': 8},\n",
       "  {'text': 'Shift',\n",
       "   'key': 'Shift',\n",
       "   'code': 'ShiftLeft',\n",
       "   'windows_virtual_key_code': 16,\n",
       "   'native_virtual_key_code': 16,\n",
       "   'type_': 'keyUp',\n",
       "   'modifiers': 0},\n",
       "  {'text': 'h',\n",
       "   'key': 'h',\n",
       "   'code': 'KeyH',\n",
       "   'windows_virtual_key_code': 72,\n",
       "   'native_virtual_key_code': 72,\n",
       "   'type_': 'keyUp',\n",
       "   'modifiers': 0}],\n",
       " [{'text': 'e',\n",
       "   'key': 'e',\n",
       "   'code': 'KeyE',\n",
       "   'windows_virtual_key_code': 69,\n",
       "   'native_virtual_key_code': 69,\n",
       "   'type_': 'keyDown',\n",
       "   'modifiers': 0},\n",
       "  {'text': 'e',\n",
       "   'key': 'e',\n",
       "   'code': 'KeyE',\n",
       "   'windows_virtual_key_code': 69,\n",
       "   'native_virtual_key_code': 69,\n",
       "   'type_': 'keyUp',\n",
       "   'modifiers': 0}],\n",
       " [{'text': 'l',\n",
       "   'key': 'l',\n",
       "   'code': 'KeyL',\n",
       "   'windows_virtual_key_code': 76,\n",
       "   'native_virtual_key_code': 76,\n",
       "   'type_': 'keyDown',\n",
       "   'modifiers': 0},\n",
       "  {'text': 'l',\n",
       "   'key': 'l',\n",
       "   'code': 'KeyL',\n",
       "   'windows_virtual_key_code': 76,\n",
       "   'native_virtual_key_code': 76,\n",
       "   'type_': 'keyUp',\n",
       "   'modifiers': 0}],\n",
       " [{'text': 'l',\n",
       "   'key': 'l',\n",
       "   'code': 'KeyL',\n",
       "   'windows_virtual_key_code': 76,\n",
       "   'native_virtual_key_code': 76,\n",
       "   'type_': 'keyDown',\n",
       "   'modifiers': 0},\n",
       "  {'text': 'l',\n",
       "   'key': 'l',\n",
       "   'code': 'KeyL',\n",
       "   'windows_virtual_key_code': 76,\n",
       "   'native_virtual_key_code': 76,\n",
       "   'type_': 'keyUp',\n",
       "   'modifiers': 0}],\n",
       " [{'text': 'o',\n",
       "   'key': 'o',\n",
       "   'code': 'KeyO',\n",
       "   'windows_virtual_key_code': 79,\n",
       "   'native_virtual_key_code': 79,\n",
       "   'type_': 'keyDown',\n",
       "   'modifiers': 0},\n",
       "  {'text': 'o',\n",
       "   'key': 'o',\n",
       "   'code': 'KeyO',\n",
       "   'windows_virtual_key_code': 79,\n",
       "   'native_virtual_key_code': 79,\n",
       "   'type_': 'keyUp',\n",
       "   'modifiers': 0}],\n",
       " [{'text': ' ',\n",
       "   'key': ' ',\n",
       "   'code': ' ',\n",
       "   'windows_virtual_key_code': 32,\n",
       "   'native_virtual_key_code': 32,\n",
       "   'type_': 'keyDown',\n",
       "   'modifiers': 0},\n",
       "  {'text': ' ',\n",
       "   'key': ' ',\n",
       "   'code': ' ',\n",
       "   'windows_virtual_key_code': 32,\n",
       "   'native_virtual_key_code': 32,\n",
       "   'type_': 'keyUp',\n",
       "   'modifiers': 0}],\n",
       " [{'text': 'w',\n",
       "   'key': 'w',\n",
       "   'code': 'KeyW',\n",
       "   'windows_virtual_key_code': 87,\n",
       "   'native_virtual_key_code': 87,\n",
       "   'type_': 'keyDown',\n",
       "   'modifiers': 0},\n",
       "  {'text': 'w',\n",
       "   'key': 'w',\n",
       "   'code': 'KeyW',\n",
       "   'windows_virtual_key_code': 87,\n",
       "   'native_virtual_key_code': 87,\n",
       "   'type_': 'keyUp',\n",
       "   'modifiers': 0}],\n",
       " [{'text': 'o',\n",
       "   'key': 'o',\n",
       "   'code': 'KeyO',\n",
       "   'windows_virtual_key_code': 79,\n",
       "   'native_virtual_key_code': 79,\n",
       "   'type_': 'keyDown',\n",
       "   'modifiers': 0},\n",
       "  {'text': 'o',\n",
       "   'key': 'o',\n",
       "   'code': 'KeyO',\n",
       "   'windows_virtual_key_code': 79,\n",
       "   'native_virtual_key_code': 79,\n",
       "   'type_': 'keyUp',\n",
       "   'modifiers': 0}],\n",
       " [{'text': 'r',\n",
       "   'key': 'r',\n",
       "   'code': 'KeyR',\n",
       "   'windows_virtual_key_code': 82,\n",
       "   'native_virtual_key_code': 82,\n",
       "   'type_': 'keyDown',\n",
       "   'modifiers': 0},\n",
       "  {'text': 'r',\n",
       "   'key': 'r',\n",
       "   'code': 'KeyR',\n",
       "   'windows_virtual_key_code': 82,\n",
       "   'native_virtual_key_code': 82,\n",
       "   'type_': 'keyUp',\n",
       "   'modifiers': 0}],\n",
       " [{'text': 'l',\n",
       "   'key': 'l',\n",
       "   'code': 'KeyL',\n",
       "   'windows_virtual_key_code': 76,\n",
       "   'native_virtual_key_code': 76,\n",
       "   'type_': 'keyDown',\n",
       "   'modifiers': 0},\n",
       "  {'text': 'l',\n",
       "   'key': 'l',\n",
       "   'code': 'KeyL',\n",
       "   'windows_virtual_key_code': 76,\n",
       "   'native_virtual_key_code': 76,\n",
       "   'type_': 'keyUp',\n",
       "   'modifiers': 0}],\n",
       " [{'text': 'd',\n",
       "   'key': 'd',\n",
       "   'code': 'KeyD',\n",
       "   'windows_virtual_key_code': 68,\n",
       "   'native_virtual_key_code': 68,\n",
       "   'type_': 'keyDown',\n",
       "   'modifiers': 0},\n",
       "  {'text': 'd',\n",
       "   'key': 'd',\n",
       "   'code': 'KeyD',\n",
       "   'windows_virtual_key_code': 68,\n",
       "   'native_virtual_key_code': 68,\n",
       "   'type_': 'keyUp',\n",
       "   'modifiers': 0}],\n",
       " [{'text': ' ',\n",
       "   'key': ' ',\n",
       "   'code': ' ',\n",
       "   'windows_virtual_key_code': 32,\n",
       "   'native_virtual_key_code': 32,\n",
       "   'type_': 'keyDown',\n",
       "   'modifiers': 0},\n",
       "  {'text': ' ',\n",
       "   'key': ' ',\n",
       "   'code': ' ',\n",
       "   'windows_virtual_key_code': 32,\n",
       "   'native_virtual_key_code': 32,\n",
       "   'type_': 'keyUp',\n",
       "   'modifiers': 0}],\n",
       " [{'text': '🏳️\\u200d🌈',\n",
       "   'key': None,\n",
       "   'code': None,\n",
       "   'windows_virtual_key_code': None,\n",
       "   'native_virtual_key_code': None,\n",
       "   'type_': 'char',\n",
       "   'modifiers': <KeyModifiers.Default: 0>}],\n",
       " [{'text': '😉',\n",
       "   'key': None,\n",
       "   'code': None,\n",
       "   'windows_virtual_key_code': None,\n",
       "   'native_virtual_key_code': None,\n",
       "   'type_': 'char',\n",
       "   'modifiers': <KeyModifiers.Default: 0>}],\n",
       " [{'text': '👍',\n",
       "   'key': None,\n",
       "   'code': None,\n",
       "   'windows_virtual_key_code': None,\n",
       "   'native_virtual_key_code': None,\n",
       "   'type_': 'char',\n",
       "   'modifiers': <KeyModifiers.Default: 0>}],\n",
       " [{'text': '🤦\\u200d♂️',\n",
       "   'key': None,\n",
       "   'code': None,\n",
       "   'windows_virtual_key_code': None,\n",
       "   'native_virtual_key_code': None,\n",
       "   'type_': 'char',\n",
       "   'modifiers': <KeyModifiers.Default: 0>}],\n",
       " [{'text': '😍',\n",
       "   'key': None,\n",
       "   'code': None,\n",
       "   'windows_virtual_key_code': None,\n",
       "   'native_virtual_key_code': None,\n",
       "   'type_': 'char',\n",
       "   'modifiers': <KeyModifiers.Default: 0>}],\n",
       " [{'text': '🎶',\n",
       "   'key': None,\n",
       "   'code': None,\n",
       "   'windows_virtual_key_code': None,\n",
       "   'native_virtual_key_code': None,\n",
       "   'type_': 'char',\n",
       "   'modifiers': <KeyModifiers.Default: 0>}]]"
      ]
     },
     "execution_count": 6,
     "metadata": {},
     "output_type": "execute_result"
    }
   ],
   "source": [
    "[events.to_cdp_events() for events in events]"
   ]
  },
  {
   "cell_type": "code",
   "execution_count": 10,
   "id": "ae417ea2",
   "metadata": {},
   "outputs": [],
   "source": [
    "in_ = [\"Hello🏳️‍🌈\", SpecialKeys.ENTER, \"This is Harsh\"]\n",
    "\n",
    "new_in = [item \n",
    "          for single_req in in_ \n",
    "          for item in (graphemes(single_req) if isinstance(single_req, str) else [single_req])]"
   ]
  },
  {
   "cell_type": "code",
   "execution_count": null,
   "id": "4d2349a2",
   "metadata": {},
   "outputs": [],
   "source": [
    "test_2 = \"omg, what is this\"\n",
    "\n",
    "new_test_2 = [\n",
    "    \n",
    "]"
   ]
  },
  {
   "cell_type": "code",
   "execution_count": 11,
   "id": "89560d63",
   "metadata": {},
   "outputs": [
    {
     "data": {
      "text/plain": [
       "['H',\n",
       " 'e',\n",
       " 'l',\n",
       " 'l',\n",
       " 'o',\n",
       " '🏳️\\u200d🌈',\n",
       " <SpecialKeys.ENTER: ('Enter', 13)>,\n",
       " 'T',\n",
       " 'h',\n",
       " 'i',\n",
       " 's',\n",
       " ' ',\n",
       " 'i',\n",
       " 's',\n",
       " ' ',\n",
       " 'H',\n",
       " 'a',\n",
       " 'r',\n",
       " 's',\n",
       " 'h']"
      ]
     },
     "execution_count": 11,
     "metadata": {},
     "output_type": "execute_result"
    }
   ],
   "source": [
    "new_in"
   ]
  },
  {
   "cell_type": "code",
   "execution_count": 2,
   "id": "1f566a8f",
   "metadata": {},
   "outputs": [],
   "source": [
    "import zendriver as zd"
   ]
  },
  {
   "cell_type": "code",
   "execution_count": 3,
   "id": "0476cf8d",
   "metadata": {},
   "outputs": [],
   "source": [
    "a = zd.KeyEvents(\"!\")"
   ]
  },
  {
   "cell_type": "code",
   "execution_count": 7,
   "id": "ac75ef78",
   "metadata": {},
   "outputs": [],
   "source": [
    "import sys"
   ]
  },
  {
   "cell_type": "code",
   "execution_count": null,
   "id": "634fae8d",
   "metadata": {},
   "outputs": [
    {
     "name": "stdout",
     "output_type": "stream",
     "text": [
      "<zendriver.core.keys.KeyEvents object at 0x7937fd3f1f70> 1\n",
      "<zendriver.core.keys.KeyEvents object at 0x7937fd3f3110> 8\n"
     ]
    },
    {
     "data": {
      "text/plain": [
       "[{'type_': 'keyDown',\n",
       "  'modifiers': 1,\n",
       "  'text': None,\n",
       "  'key': 'Alt',\n",
       "  'code': 'AltLeft',\n",
       "  'windows_virtual_key_code': 18,\n",
       "  'native_virtual_key_code': 18},\n",
       " {'type_': 'keyDown',\n",
       "  'modifiers': 9,\n",
       "  'text': None,\n",
       "  'key': 'Shift',\n",
       "  'code': 'ShiftLeft',\n",
       "  'windows_virtual_key_code': 16,\n",
       "  'native_virtual_key_code': 16},\n",
       " {'type_': 'keyDown',\n",
       "  'modifiers': 9,\n",
       "  'text': '1',\n",
       "  'key': '1',\n",
       "  'code': 'Digit1',\n",
       "  'windows_virtual_key_code': 49,\n",
       "  'native_virtual_key_code': 49},\n",
       " {'type_': 'keyUp',\n",
       "  'modifiers': 8,\n",
       "  'text': None,\n",
       "  'key': 'Alt',\n",
       "  'code': 'AltLeft',\n",
       "  'windows_virtual_key_code': 18,\n",
       "  'native_virtual_key_code': 18},\n",
       " {'type_': 'keyUp',\n",
       "  'modifiers': 0,\n",
       "  'text': None,\n",
       "  'key': 'Shift',\n",
       "  'code': 'ShiftLeft',\n",
       "  'windows_virtual_key_code': 16,\n",
       "  'native_virtual_key_code': 16},\n",
       " {'type_': 'keyUp',\n",
       "  'modifiers': 0,\n",
       "  'text': '1',\n",
       "  'key': '1',\n",
       "  'code': 'Digit1',\n",
       "  'windows_virtual_key_code': 49,\n",
       "  'native_virtual_key_code': 49}]"
      ]
     },
     "execution_count": 5,
     "metadata": {},
     "output_type": "execute_result"
    }
   ],
   "source": [
    "a.to_cdp_events(zd.KeyPressEvent.DOWN_AND_UP, override_modifiers=zd.KeyModifiers.Shift | zd.KeyModifiers.Alt)"
   ]
  },
  {
   "cell_type": "code",
   "execution_count": null,
   "id": "9699a376",
   "metadata": {},
   "outputs": [],
   "source": []
  }
 ],
 "metadata": {
  "kernelspec": {
   "display_name": ".venv",
   "language": "python",
   "name": "python3"
  },
  "language_info": {
   "codemirror_mode": {
    "name": "ipython",
    "version": 3
   },
   "file_extension": ".py",
   "mimetype": "text/x-python",
   "name": "python",
   "nbconvert_exporter": "python",
   "pygments_lexer": "ipython3",
   "version": "3.12.3"
  }
 },
 "nbformat": 4,
 "nbformat_minor": 5
}
