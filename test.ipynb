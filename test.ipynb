{
 "cells": [
  {
   "cell_type": "code",
   "execution_count": 3,
   "id": "fa1e6e3a",
   "metadata": {},
   "outputs": [
    {
     "name": "stdout",
     "output_type": "stream",
     "text": [
      "h\n",
      "e\n",
      "l\n",
      "l\n",
      "o\n",
      " \n",
      "w\n",
      "o\n",
      "r\n",
      "l\n",
      "d\n",
      " \n",
      "🤦‍♂️\n",
      "😁\n",
      "👍\n",
      "😉\n"
     ]
    }
   ],
   "source": [
    "import grapheme\n",
    "\n",
    "for a in grapheme.graphemes(\"hello world 🤦‍♂️😁👍😉\"):\n",
    "    print(a)"
   ]
  },
  {
   "cell_type": "code",
   "execution_count": null,
   "id": "202c3f44",
   "metadata": {},
   "outputs": [
    {
     "name": "stdout",
     "output_type": "stream",
     "text": [
      "😁\n"
     ]
    }
   ],
   "source": [
    "rainbow = \"\"\n",
    "\n",
    "for a in rainbow:\n",
    "    print(a)"
   ]
  },
  {
   "cell_type": "code",
   "execution_count": 9,
   "id": "8d498828",
   "metadata": {},
   "outputs": [
    {
     "data": {
      "text/plain": [
       "1"
      ]
     },
     "execution_count": 9,
     "metadata": {},
     "output_type": "execute_result"
    }
   ],
   "source": [
    "len(rainbow)"
   ]
  },
  {
   "cell_type": "code",
   "execution_count": 28,
   "id": "2cb67fd5",
   "metadata": {},
   "outputs": [
    {
     "data": {
      "text/plain": [
       "(33, 64, 35)"
      ]
     },
     "execution_count": 28,
     "metadata": {},
     "output_type": "execute_result"
    }
   ],
   "source": [
    "ord(\"!\"), ord(\"@\"), ord(\"#\")"
   ]
  },
  {
   "cell_type": "code",
   "execution_count": 8,
   "id": "8147de24",
   "metadata": {},
   "outputs": [],
   "source": [
    "from prototype import KeyEvents, KeyModifiers, SpecialKeys, KeyEventType\n",
    "from typing import List, Union"
   ]
  },
  {
   "cell_type": "code",
   "execution_count": 10,
   "id": "7671f89e",
   "metadata": {},
   "outputs": [],
   "source": [
    "import grapheme\n",
    "\n",
    "input_text:List[Union[str, SpecialKeys]] = [\"hello world\", SpecialKeys.ENTER, \"This is Harsh\"]\n",
    "\n",
    "\n",
    "def generator_input(input_text: List[Union[str, SpecialKeys]]):\n",
    "    for item in input_text:\n",
    "        if isinstance(item, str):\n",
    "            grapheme_iter = grapheme.graphemes(item)\n",
    "            for grapheme_char in grapheme_iter:\n",
    "                grapheme_char = str(grapheme_char)\n",
    "                yield KeyEvents.get_key_action(grapheme_char, KeyModifiers.Default)\n",
    "        elif isinstance(item, SpecialKeys):\n",
    "            yield KeyEvents.get_key_action(\n",
    "                item, KeyModifiers.Default, KeyEventType.DOWN_AND_UP\n",
    "            )\n",
    "\n",
    "\n",
    "    yield KeyEvents.get_key_action(\"a\", KeyModifiers.Ctrl, KeyEventType.CHAR)\n",
    "    # yield KeyEvents.get_key_action(\n",
    "    #         SpecialKeys.BACKSPACE, KeyModifiers.Default, KeyEventType.DOWN_AND_UP\n",
    "    #     )"
   ]
  },
  {
   "cell_type": "code",
   "execution_count": 1,
   "id": "0034166a",
   "metadata": {},
   "outputs": [],
   "source": [
    "import zendriver as zd"
   ]
  },
  {
   "cell_type": "code",
   "execution_count": 2,
   "id": "ce459277",
   "metadata": {},
   "outputs": [],
   "source": [
    "browser = await zd.start(browser_args=[\"--disable-gpu\"])"
   ]
  },
  {
   "cell_type": "code",
   "execution_count": 40,
   "id": "0a47deeb",
   "metadata": {},
   "outputs": [],
   "source": [
    "page = await browser.get(\"https://codverter.com/src/maineditor\")"
   ]
  },
  {
   "cell_type": "code",
   "execution_count": 41,
   "id": "f1419a71",
   "metadata": {},
   "outputs": [],
   "source": [
    "await page.maximize()"
   ]
  },
  {
   "cell_type": "code",
   "execution_count": 47,
   "id": "f19f135a",
   "metadata": {},
   "outputs": [],
   "source": [
    "writing_element = await page.find('//*[@id=\"divlft\"]/div[2]/div[6]/div[1]')"
   ]
  },
  {
   "cell_type": "code",
   "execution_count": 48,
   "id": "b7459bee",
   "metadata": {},
   "outputs": [],
   "source": [
    "if not isinstance(writing_element, zd.Element):\n",
    "    raise TypeError(\"Expected writing_element to be of type zd.Element\")\n",
    "await writing_element.mouse_click(\"left\")\n",
    "await writing_element.send_keys(\"Hello world\")"
   ]
  },
  {
   "cell_type": "code",
   "execution_count": 50,
   "id": "77f570a0",
   "metadata": {},
   "outputs": [],
   "source": [
    "from zendriver import cdp\n",
    "\n",
    "\n",
    "async def send_keys(element:zd.Element, keyEvents: List[KeyEvents.Action]):\n",
    "    \"\"\"\n",
    "    send text to an input field, or any other html element.\n",
    "\n",
    "    hint, if you ever get stuck where using py:meth:`~click`\n",
    "    does not work, sending the keystroke \\\\n or \\\\r\\\\n or a spacebar work wonders!\n",
    "\n",
    "    when special_characters is True, it will use grapheme clusters to send the text:\n",
    "    if the character is in the printable ASCII range, it sends it using dispatch_key_event.\n",
    "    otherwise, it uses insertText, which handles special characters more robustly.\n",
    "\n",
    "    :param text: text to send\n",
    "    :param special_characters: when True, uses grapheme clusters to send the text.\n",
    "    :return: None\n",
    "    \"\"\"\n",
    "    \n",
    "    await element.apply(\"(elem) => elem.focus()\")\n",
    "    for actions in keyEvents:\n",
    "        action_list = actions.to_dict()\n",
    "        \n",
    "        for action in action_list:\n",
    "            await element._tab.send(\n",
    "                cdp.input_.dispatch_key_event(\n",
    "                    **action\n",
    "                )\n",
    "            )"
   ]
  },
  {
   "cell_type": "code",
   "execution_count": 51,
   "id": "ea07da0a",
   "metadata": {},
   "outputs": [],
   "source": [
    "um = generator_input(input_text)\n",
    "all_vals = [a for a in um if a is not None]\n",
    "\n",
    "\n",
    "if isinstance(writing_element, zd.Element):\n",
    "    await send_keys(writing_element, all_vals)"
   ]
  },
  {
   "cell_type": "code",
   "execution_count": 54,
   "id": "7827353d",
   "metadata": {},
   "outputs": [],
   "source": [
    "a = KeyEvents.get_key_action(\"a\", KeyModifiers.Ctrl, KeyEventType.DOWN_AND_UP)\n",
    "if a is not None:\n",
    "    all_vals[-1] = a"
   ]
  },
  {
   "cell_type": "code",
   "execution_count": 56,
   "id": "4a70890e",
   "metadata": {},
   "outputs": [],
   "source": [
    "await send_keys(writing_element, [all_vals[-1]])"
   ]
  },
  {
   "cell_type": "code",
   "execution_count": null,
   "id": "170df4b2",
   "metadata": {},
   "outputs": [],
   "source": []
  },
  {
   "cell_type": "code",
   "execution_count": 57,
   "id": "8473a5b3",
   "metadata": {},
   "outputs": [],
   "source": [
    "\n",
    "if isinstance(writing_element, zd.Element):\n",
    "    await writing_element.apply(\"(elem) => elem.focus()\")\n",
    "    # Send keyDown event\n",
    "    await writing_element._tab.send(\n",
    "        cdp.input_.dispatch_key_event(\n",
    "            \"keyDown\",\n",
    "            key=\"Enter\",\n",
    "            code=\"Enter\",\n",
    "            windows_virtual_key_code=13,\n",
    "            native_virtual_key_code=13,\n",
    "        )\n",
    "    )\n",
    "\n",
    "    # Send keyUp event\n",
    "    await writing_element._tab.send(\n",
    "        cdp.input_.dispatch_key_event(\n",
    "            \"keyUp\",\n",
    "            key=\"Enter\",\n",
    "            code=\"Enter\",\n",
    "            windows_virtual_key_code=13,\n",
    "            native_virtual_key_code=13,\n",
    "        )\n",
    "    )\n"
   ]
  },
  {
   "cell_type": "code",
   "execution_count": null,
   "id": "9bc10eaa",
   "metadata": {},
   "outputs": [],
   "source": [
    "import asyncio\n",
    "\n",
    "a = KeyEvents.get_key_action(\"a\", event_type=KeyEventType.KEY_DOWN)\n",
    "b = KeyEvents.get_key_action(\"a\", event_type=KeyEventType.KEY_UP)\n",
    "\n",
    "if a is None or b is None:\n",
    "    raise ValueError(\"Failed to get key actions for 'a'\")\n",
    "await writing_element.mouse_click(\"left\")\n",
    "await send_keys(writing_element, [a])\n",
    "# await asyncio.sleep(0.5)\n",
    "# await send_keys(writing_element, [b])   "
   ]
  }
 ],
 "metadata": {
  "kernelspec": {
   "display_name": ".venv",
   "language": "python",
   "name": "python3"
  },
  "language_info": {
   "codemirror_mode": {
    "name": "ipython",
    "version": 3
   },
   "file_extension": ".py",
   "mimetype": "text/x-python",
   "name": "python",
   "nbconvert_exporter": "python",
   "pygments_lexer": "ipython3",
   "version": "3.12.3"
  }
 },
 "nbformat": 4,
 "nbformat_minor": 5
}
